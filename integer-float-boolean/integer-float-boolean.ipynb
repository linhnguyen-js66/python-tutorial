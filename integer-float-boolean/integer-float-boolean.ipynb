{
 "cells": [
  {
   "cell_type": "markdown",
   "metadata": {},
   "source": [
    "# Integer và Float\n",
    "   1. Integer"
   ]
  },
  {
   "cell_type": "code",
   "execution_count": null,
   "metadata": {},
   "outputs": [],
   "source": [
    "x = 2\n",
    "type(x)\n",
    "#Phép Cộng \n",
    "x + 1\n",
    "#Phép nhân\n",
    "x * 2\n",
    "# Integer là dạng bất biến(immutable). Khi thực hiện các phép toán trên dạng biến này,\n",
    "# một ô nhớ khác được tạo ra và chứa kết quả, giá trị biến ban đầu được bảo toàn\n",
    "\n",
    "#Phép gán\n",
    "# Giá trị x chỉ thay đổi khi được gán một giá trị mới\n",
    "x = x * 2\n",
    "#output: x = 4"
   ]
  },
  {
   "cell_type": "markdown",
   "metadata": {},
   "source": [
    "2. Float\n",
    "   Tương tự Float cũng là dạng bất biến(immutable)"
   ]
  },
  {
   "cell_type": "code",
   "execution_count": null,
   "metadata": {},
   "outputs": [],
   "source": [
    "y = 2.5 \n",
    "y + 3.5\n",
    "y/2\n",
    "y**2\n",
    "\n",
    "y = y/8\n",
    "#output: y = 0.3125"
   ]
  }
 ],
 "metadata": {
  "kernelspec": {
   "display_name": "Python 3",
   "language": "python",
   "name": "python3"
  },
  "language_info": {
   "codemirror_mode": {
    "name": "ipython",
    "version": 3
   },
   "file_extension": ".py",
   "mimetype": "text/x-python",
   "name": "python",
   "nbconvert_exporter": "python",
   "pygments_lexer": "ipython3",
   "version": "3.13.1"
  }
 },
 "nbformat": 4,
 "nbformat_minor": 2
}
