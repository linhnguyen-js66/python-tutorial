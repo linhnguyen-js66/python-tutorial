{
 "cells": [
  {
   "cell_type": "markdown",
   "metadata": {},
   "source": [
    "# Integer và Float\n",
    "   1. Integer"
   ]
  },
  {
   "cell_type": "code",
   "execution_count": null,
   "metadata": {},
   "outputs": [],
   "source": [
    "x = 2\n",
    "type(x)\n",
    "#Phép Cộng \n",
    "x + 1\n",
    "#Phép nhân\n",
    "x * 2\n",
    "# Integer là dạng bất biến(immutable). Khi thực hiện các phép toán trên dạng biến này,\n",
    "# một ô nhớ khác được tạo ra và chứa kết quả, giá trị biến ban đầu được bảo toàn\n",
    "\n",
    "#Phép gán\n",
    "# Giá trị x chỉ thay đổi khi được gán một giá trị mới\n",
    "x = x * 2\n",
    "#output: x = 4"
   ]
  },
  {
   "cell_type": "markdown",
   "metadata": {},
   "source": [
    "2. Float\n",
    "   Tương tự Float cũng là dạng bất biến(immutable)"
   ]
  },
  {
   "cell_type": "code",
   "execution_count": null,
   "metadata": {},
   "outputs": [],
   "source": [
    "y = 2.5 \n",
    "y + 3.5\n",
    "y/2\n",
    "y**2\n",
    "\n",
    "y = y/8\n",
    "#output: y = 0.3125"
   ]
  },
  {
   "cell_type": "markdown",
   "metadata": {},
   "source": [
    "#Boolean \n",
    "1. Khai báo biến"
   ]
  },
  {
   "cell_type": "code",
   "execution_count": null,
   "metadata": {},
   "outputs": [],
   "source": [
    "right = True\n",
    "wrong = False\n",
    "\n",
    "type(right)"
   ]
  },
  {
   "cell_type": "markdown",
   "metadata": {},
   "source": [
    "2. Giá trị Boolean?\n",
    "Đây là phần lỏng lẻo của ngôn ngữ này, bạn cần nắm chắc phần này để tránh mắc lỗi trong quá trình lập trình Python."
   ]
  },
  {
   "cell_type": "code",
   "execution_count": null,
   "metadata": {},
   "outputs": [],
   "source": [
    "0 == False\n",
    "0 == False"
   ]
  },
  {
   "cell_type": "markdown",
   "metadata": {},
   "source": [
    "3. Phép toán so sánh"
   ]
  },
  {
   "cell_type": "code",
   "execution_count": null,
   "metadata": {},
   "outputs": [],
   "source": [
    "10 > 3\n",
    "5 >= 5\n",
    "1 < 5\n",
    "4 <= 4\n",
    "2 == 2\n",
    "3 != 4\n",
    "z = 20\n",
    "1 < z < 30\n",
    "1 < z > 0\n",
    "20 == z < 60\n",
    "70 > z <= 50"
   ]
  },
  {
   "cell_type": "markdown",
   "metadata": {},
   "source": [
    "4. Phép toán logic\n",
    "   * and: Cả 2 biểu thức là True thì kết quả là True\n",
    "   * or: Một trong 2 biểu thức là True thì kết quả là True\n",
    "   * not: Biểu thức phủ định\n",
    "  \n",
    "   * >> : Dịch trái: x = 20; y = x >> 2 => x = 20 // (2*2) => y = 5\n",
    "   * << : Dịch phải x <<= 4 => x = 4 * 2**4\n",
    "   * &: \n",
    "     a = 5  # Binary: 0101 (2^2 + 2^0)\n",
    "     b = 3  # Binary: 0011 (2^1 + 2^0)\n",
    "     => a & b = 2**0 = 1\n",
    "   * |:\n",
    "    a = 5  # Binary: 0101 (2^2 + 2^0)\n",
    "    b = 3  # Binary: 0011 (2^1 + 2^0)\n",
    "    a | b = 2^2 + 2^1 + 2^0 = 7\n",
    "   * ^: Bitwise XOR giữ lại các bit mà chỉ xuất hiện trong một trong hai số, nhưng không xuất hiện ở cả hai.\n",
    "    a = 5  # Binary: 0101 (2^2 + 2^0)\n",
    "    b = 3  # Binary: 0011 (2^1 + 2^0)\n",
    "    a ^ b = 2^2 + 2^1 = 6\n",
    "   * ~: Bitwise NOT đảo tất cả các bit của số, kể cả bit dấu.\n",
    "    Trong hệ thống Two's Complement (dùng trong Python), điều này tương đương với:\n",
    "                                  x=−(x+1)\n",
    "    a ~ b = -( 2^2 + 2^1 ) = -6\n",
    "5. Phép toán thành viên (Membership Operators)\n",
    "   \"Ngoc\" in \"Nguyen Ba Ngoc\""
   ]
  },
  {
   "cell_type": "code",
   "execution_count": null,
   "metadata": {},
   "outputs": [],
   "source": [
    "   1 in [10, 2, 3]\n",
    "   \"D\" not in \"Vietnam\"\n",
    "   \"D\" not in \"Vietnam\""
   ]
  },
  {
   "cell_type": "markdown",
   "metadata": {},
   "source": [
    "6. Toán tử xác định (Indentity Operators)"
   ]
  },
  {
   "cell_type": "code",
   "execution_count": null,
   "metadata": {},
   "outputs": [],
   "source": [
    "   ngoc = \"Nguyen Ba Ngoc\"\n",
    "   ha = ngoc\n",
    "   ha is ngoc\n",
    "   ha is not ngoc"
   ]
  }
 ],
 "metadata": {
  "kernelspec": {
   "display_name": "Python 3",
   "language": "python",
   "name": "python3"
  },
  "language_info": {
   "codemirror_mode": {
    "name": "ipython",
    "version": 3
   },
   "file_extension": ".py",
   "mimetype": "text/x-python",
   "name": "python",
   "nbconvert_exporter": "python",
   "pygments_lexer": "ipython3",
   "version": "3.13.1"
  }
 },
 "nbformat": 4,
 "nbformat_minor": 2
}
